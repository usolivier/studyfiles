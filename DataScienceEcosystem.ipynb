{
 "cells": [
  {
   "cell_type": "markdown",
   "id": "175f09a4-8893-49ad-b088-e00915cba1b1",
   "metadata": {},
   "source": [
    "# Data Science Tools and Ecosystem"
   ]
  },
  {
   "cell_type": "raw",
   "id": "187f74db-9e3b-4e04-ab3f-bc5bf606e27f",
   "metadata": {},
   "source": [
    "In this notebook, Data Science Tools and Ecosystem are summarized.\n",
    "Some of the popular languages that Data Scientists use are:\n",
    "1. Python\n",
    "2. R\n",
    "3. SQL"
   ]
  },
  {
   "cell_type": "markdown",
   "id": "5c9c5dd0-1c7f-41fd-93db-972214d48696",
   "metadata": {},
   "source": [
    "Some of the commonly used libraries used by Data Scientists include: <br/> \n",
    "1. Pandas\n",
    "2. NumPy\n",
    "3. Matplotlib"
   ]
  },
  {
   "cell_type": "code",
   "execution_count": null,
   "id": "18c0afd8-d66c-4af8-8dca-440a5252dc5b",
   "metadata": {},
   "outputs": [],
   "source": []
  },
  {
   "cell_type": "markdown",
   "id": "6b672370-beea-4140-ad38-831018ce012d",
   "metadata": {},
   "source": [
    "# EXERCISE 6"
   ]
  },
  {
   "cell_type": "code",
   "execution_count": null,
   "id": "6426b362-4b36-4b69-825a-93d6cb724932",
   "metadata": {},
   "outputs": [],
   "source": [
    "| **Data Science Tools**         |\n",
    "|---------------------------------|\n",
    "| Jupyter Notebook               |\n",
    "| RStudio                        |\n",
    "| Visual Studio Code (VS Code)   |"
   ]
  },
  {
   "cell_type": "markdown",
   "id": "88c83c59-9ab5-45d8-9261-a7dce38b3422",
   "metadata": {},
   "source": [
    "## EXERCISE 7"
   ]
  },
  {
   "cell_type": "markdown",
   "id": "00125274-1fbb-4eeb-a697-2345cd53faab",
   "metadata": {},
   "source": [
    "Below are a few examples of evaluating arithmetic expressions in Python:"
   ]
  },
  {
   "cell_type": "code",
   "execution_count": 16,
   "id": "ce1d27d6-66fe-49b0-b5d2-f697c1d8644b",
   "metadata": {},
   "outputs": [],
   "source": [
    "#This a simple arithmetic expression to mutiply then add integers"
   ]
  },
  {
   "cell_type": "code",
   "execution_count": 18,
   "id": "40875c69-bc5f-47f2-beda-bb146dbfd1ee",
   "metadata": {},
   "outputs": [
    {
     "data": {
      "text/plain": [
       "17"
      ]
     },
     "execution_count": 18,
     "metadata": {},
     "output_type": "execute_result"
    }
   ],
   "source": [
    "(3*4)+5"
   ]
  },
  {
   "cell_type": "code",
   "execution_count": null,
   "id": "b7dd6030-00c4-470e-a9fa-4bce330f2850",
   "metadata": {},
   "outputs": [],
   "source": [
    "#This will convert 200 minutes to hours by diving by 60"
   ]
  },
  {
   "cell_type": "code",
   "execution_count": 20,
   "id": "7f107f44-e723-418a-89d9-b51dfca144d2",
   "metadata": {},
   "outputs": [
    {
     "name": "stdout",
     "output_type": "stream",
     "text": [
      "3.3333333333333335\n"
     ]
    }
   ],
   "source": [
    "hours = 200 / 60\n",
    "print(hours)"
   ]
  },
  {
   "cell_type": "markdown",
   "id": "a2034a6f-bcd8-42ad-92c4-d7ecac2205b0",
   "metadata": {},
   "source": [
    "*Objectives:*\n",
    "- List popular languages\n",
    "- List popular libraries\n",
    "- Perform basic calculations"
   ]
  },
  {
   "cell_type": "markdown",
   "id": "b05a2543-4e90-4646-a248-3df5378a7502",
   "metadata": {},
   "source": [
    "## Author\n",
    "Olivier Habumugisha"
   ]
  },
  {
   "cell_type": "code",
   "execution_count": null,
   "id": "a2070070-d6d2-49a8-9882-342d279a9720",
   "metadata": {},
   "outputs": [],
   "source": []
  }
 ],
 "metadata": {
  "kernelspec": {
   "display_name": "Python [conda env:base] *",
   "language": "python",
   "name": "conda-base-py"
  },
  "language_info": {
   "codemirror_mode": {
    "name": "ipython",
    "version": 3
   },
   "file_extension": ".py",
   "mimetype": "text/x-python",
   "name": "python",
   "nbconvert_exporter": "python",
   "pygments_lexer": "ipython3",
   "version": "3.12.7"
  }
 },
 "nbformat": 4,
 "nbformat_minor": 5
}
